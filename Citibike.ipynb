{
 "cells": [
  {
   "cell_type": "code",
   "execution_count": 20,
   "id": "a2bedfe9-68e4-497c-be86-a9be426d03c2",
   "metadata": {},
   "outputs": [],
   "source": [
    "import pandas as pd"
   ]
  },
  {
   "cell_type": "code",
   "execution_count": 21,
   "id": "3118aa5d-8ee1-453f-a508-a6ed531a10b2",
   "metadata": {},
   "outputs": [
    {
     "name": "stderr",
     "output_type": "stream",
     "text": [
      "/var/folders/xn/flzj9nh10rn23jrk_xt8vpb40000gn/T/ipykernel_1472/3869960652.py:5: DtypeWarning: Columns (7) have mixed types. Specify dtype option on import or set low_memory=False.\n",
      "  data_one = pd.read_csv(files[0])\n"
     ]
    }
   ],
   "source": [
    "files = ['202406-citibike-tripdata_1.csv', \n",
    "        '202406-citibike-tripdata_2.csv',\n",
    "        '202406-citibike-tripdata_3.csv']\n",
    "\n",
    "data_one = pd.read_csv(files[0])\n",
    "data_one = data_one.head(1000)"
   ]
  },
  {
   "cell_type": "code",
   "execution_count": 22,
   "id": "876c0b98-827e-45e7-b34e-9b9015dbd517",
   "metadata": {},
   "outputs": [
    {
     "name": "stderr",
     "output_type": "stream",
     "text": [
      "/var/folders/xn/flzj9nh10rn23jrk_xt8vpb40000gn/T/ipykernel_1472/3319084694.py:1: DtypeWarning: Columns (5,7) have mixed types. Specify dtype option on import or set low_memory=False.\n",
      "  data_two = pd.read_csv(files[1])\n"
     ]
    }
   ],
   "source": [
    "data_two = pd.read_csv(files[1])\n",
    "data_two = data_two.head(1000)"
   ]
  },
  {
   "cell_type": "code",
   "execution_count": 23,
   "id": "2ca78d78-3a3d-4ef2-b6a6-8cd3fa890539",
   "metadata": {},
   "outputs": [
    {
     "name": "stderr",
     "output_type": "stream",
     "text": [
      "/var/folders/xn/flzj9nh10rn23jrk_xt8vpb40000gn/T/ipykernel_1472/15166205.py:1: DtypeWarning: Columns (5,7) have mixed types. Specify dtype option on import or set low_memory=False.\n",
      "  data_three = pd.read_csv(files[2])\n"
     ]
    }
   ],
   "source": [
    "data_three = pd.read_csv(files[2])\n",
    "data_three = data_three.head(1000)"
   ]
  },
  {
   "cell_type": "code",
   "execution_count": 24,
   "id": "a5a32fd4-088d-47fc-a5b3-ca54357c5eed",
   "metadata": {},
   "outputs": [],
   "source": [
    "citibike_df = pd.concat([data_one, data_two], axis=0)"
   ]
  },
  {
   "cell_type": "code",
   "execution_count": 25,
   "id": "70794098-436c-40c8-b916-04ce7c7168c4",
   "metadata": {},
   "outputs": [],
   "source": [
    "citibike_df_two = pd.concat([citibike_df, data_three], axis=0)"
   ]
  },
  {
   "cell_type": "code",
   "execution_count": 26,
   "id": "236aa49d-307d-4567-8d2b-2e36175ab84c",
   "metadata": {},
   "outputs": [],
   "source": [
    "citibike_df_two.to_csv('202406-citibike-tripdata_combined.csv', index=False)"
   ]
  }
 ],
 "metadata": {
  "kernelspec": {
   "display_name": "Python 3 (ipykernel)",
   "language": "python",
   "name": "python3"
  },
  "language_info": {
   "codemirror_mode": {
    "name": "ipython",
    "version": 3
   },
   "file_extension": ".py",
   "mimetype": "text/x-python",
   "name": "python",
   "nbconvert_exporter": "python",
   "pygments_lexer": "ipython3",
   "version": "3.12.4"
  }
 },
 "nbformat": 4,
 "nbformat_minor": 5
}
